{
 "cells": [
  {
   "cell_type": "code",
   "execution_count": 2,
   "id": "f7d4273e-a73c-4e53-a691-95821c2bfa2c",
   "metadata": {},
   "outputs": [
    {
     "name": "stdout",
     "output_type": "stream",
     "text": [
      "Loading model...\n",
      "✅ Model loaded successfully!\n",
      "Loading test image...\n",
      "Predicting...\n",
      "1/1 [==============================] - 0s 311ms/step\n",
      "✅ Predicted Class: plastic\n"
     ]
    }
   ],
   "source": [
    "from tensorflow.keras.models import load_model\n",
    "from tensorflow.keras.preprocessing.image import load_img, img_to_array\n",
    "import numpy as np\n",
    "import os\n",
    "\n",
    "# ✅ Path to model file\n",
    "MODEL_PATH = 'model/waste_model.h5'\n",
    "\n",
    "# ✅ Path to test image (use an actual sample image from your dataset)\n",
    "TEST_IMAGE_PATH = 'sample.jpg'  # Replace with a real image path\n",
    "\n",
    "# ✅ Waste classes\n",
    "classes = ['plastic', 'textile', 'organic', 'e-waste']\n",
    "\n",
    "try:\n",
    "    # Step 1: Load model\n",
    "    print(\"Loading model...\")\n",
    "    model = load_model(MODEL_PATH)\n",
    "    print(\"✅ Model loaded successfully!\")\n",
    "\n",
    "    # Step 2: Load and preprocess test image\n",
    "    print(\"Loading test image...\")\n",
    "    img = load_img(TEST_IMAGE_PATH, target_size=(150, 150))\n",
    "    img = img_to_array(img) / 255.0\n",
    "    img = np.expand_dims(img, axis=0)\n",
    "\n",
    "    # Step 3: Make prediction\n",
    "    print(\"Predicting...\")\n",
    "    prediction = model.predict(img)\n",
    "    predicted_class = classes[np.argmax(prediction)]\n",
    "\n",
    "    print(f\"✅ Predicted Class: {predicted_class}\")\n",
    "\n",
    "except Exception as e:\n",
    "    print(\"❌ Error occurred:\")\n",
    "    print(e)\n"
   ]
  },
  {
   "cell_type": "code",
   "execution_count": null,
   "id": "80adddb4-a40a-4ce6-8e9c-89567302ff5b",
   "metadata": {},
   "outputs": [],
   "source": []
  }
 ],
 "metadata": {
  "kernelspec": {
   "display_name": "Python 3.10 (tf-env)",
   "language": "python",
   "name": "tf-env"
  },
  "language_info": {
   "codemirror_mode": {
    "name": "ipython",
    "version": 3
   },
   "file_extension": ".py",
   "mimetype": "text/x-python",
   "name": "python",
   "nbconvert_exporter": "python",
   "pygments_lexer": "ipython3",
   "version": "3.10.0"
  }
 },
 "nbformat": 4,
 "nbformat_minor": 5
}
